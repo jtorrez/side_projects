{
 "cells": [
  {
   "cell_type": "code",
   "execution_count": 1,
   "metadata": {
    "collapsed": true
   },
   "outputs": [],
   "source": [
    "import plotly.plotly as py\n",
    "from state_converter import state_to_abbrev as state_to_abbrev\n",
    "import pandas as pd\n",
    "\n",
    "%matplotlib inline"
   ]
  },
  {
   "cell_type": "code",
   "execution_count": 2,
   "metadata": {
    "collapsed": true
   },
   "outputs": [],
   "source": [
    "std_df = pd.read_csv('STDs_Nationally_Ranked_By_State.csv')"
   ]
  },
  {
   "cell_type": "code",
   "execution_count": 3,
   "metadata": {
    "collapsed": false
   },
   "outputs": [
    {
     "data": {
      "text/html": [
       "<div>\n",
       "<table border=\"1\" class=\"dataframe\">\n",
       "  <thead>\n",
       "    <tr style=\"text-align: right;\">\n",
       "      <th></th>\n",
       "      <th>Sort</th>\n",
       "      <th>Year</th>\n",
       "      <th>State</th>\n",
       "      <th>Chlamydia_Count</th>\n",
       "      <th>Chlamydia_Rate</th>\n",
       "      <th>Chlamydia_RankByCount</th>\n",
       "      <th>Chlamydia_RankByRate</th>\n",
       "      <th>Gonorrhea_Count</th>\n",
       "      <th>Gonorrhea_Rate</th>\n",
       "      <th>Gonorrhea_RankByCount</th>\n",
       "      <th>Gonorrhea_RankByRate</th>\n",
       "      <th>Primary_Secondary_Syphilis_Count</th>\n",
       "      <th>Primary_Secondary_Syphilis_Rate</th>\n",
       "      <th>Primary_Secondary_Syphilis_RankByCount</th>\n",
       "      <th>Primary_Secondary_Syphilis_RankByRate</th>\n",
       "    </tr>\n",
       "  </thead>\n",
       "  <tbody>\n",
       "    <tr>\n",
       "      <th>0</th>\n",
       "      <td>1</td>\n",
       "      <td>2000</td>\n",
       "      <td>Alabama</td>\n",
       "      <td>15323</td>\n",
       "      <td>344.2</td>\n",
       "      <td>14</td>\n",
       "      <td>6</td>\n",
       "      <td>12063</td>\n",
       "      <td>271.0</td>\n",
       "      <td>12</td>\n",
       "      <td>3</td>\n",
       "      <td>123</td>\n",
       "      <td>2.8</td>\n",
       "      <td>17</td>\n",
       "      <td>13.0</td>\n",
       "    </tr>\n",
       "    <tr>\n",
       "      <th>1</th>\n",
       "      <td>2</td>\n",
       "      <td>2000</td>\n",
       "      <td>Alaska</td>\n",
       "      <td>2569</td>\n",
       "      <td>409.3</td>\n",
       "      <td>40</td>\n",
       "      <td>2</td>\n",
       "      <td>361</td>\n",
       "      <td>57.5</td>\n",
       "      <td>41</td>\n",
       "      <td>35</td>\n",
       "      <td>0</td>\n",
       "      <td>0.0</td>\n",
       "      <td>39</td>\n",
       "      <td>NaN</td>\n",
       "    </tr>\n",
       "    <tr>\n",
       "      <th>2</th>\n",
       "      <td>3</td>\n",
       "      <td>2000</td>\n",
       "      <td>Arizona</td>\n",
       "      <td>12591</td>\n",
       "      <td>243.7</td>\n",
       "      <td>21</td>\n",
       "      <td>22</td>\n",
       "      <td>4130</td>\n",
       "      <td>79.9</td>\n",
       "      <td>23</td>\n",
       "      <td>28</td>\n",
       "      <td>189</td>\n",
       "      <td>3.7</td>\n",
       "      <td>13</td>\n",
       "      <td>10.0</td>\n",
       "    </tr>\n",
       "    <tr>\n",
       "      <th>3</th>\n",
       "      <td>4</td>\n",
       "      <td>2000</td>\n",
       "      <td>Arkansas</td>\n",
       "      <td>6219</td>\n",
       "      <td>232.2</td>\n",
       "      <td>31</td>\n",
       "      <td>25</td>\n",
       "      <td>3642</td>\n",
       "      <td>136.0</td>\n",
       "      <td>24</td>\n",
       "      <td>17</td>\n",
       "      <td>104</td>\n",
       "      <td>3.9</td>\n",
       "      <td>19</td>\n",
       "      <td>9.0</td>\n",
       "    </tr>\n",
       "    <tr>\n",
       "      <th>4</th>\n",
       "      <td>5</td>\n",
       "      <td>2000</td>\n",
       "      <td>California</td>\n",
       "      <td>95392</td>\n",
       "      <td>280.5</td>\n",
       "      <td>1</td>\n",
       "      <td>12</td>\n",
       "      <td>21619</td>\n",
       "      <td>63.6</td>\n",
       "      <td>4</td>\n",
       "      <td>32</td>\n",
       "      <td>325</td>\n",
       "      <td>1.0</td>\n",
       "      <td>9</td>\n",
       "      <td>19.0</td>\n",
       "    </tr>\n",
       "  </tbody>\n",
       "</table>\n",
       "</div>"
      ],
      "text/plain": [
       "   Sort  Year       State  Chlamydia_Count  Chlamydia_Rate  \\\n",
       "0     1  2000     Alabama            15323           344.2   \n",
       "1     2  2000      Alaska             2569           409.3   \n",
       "2     3  2000     Arizona            12591           243.7   \n",
       "3     4  2000    Arkansas             6219           232.2   \n",
       "4     5  2000  California            95392           280.5   \n",
       "\n",
       "   Chlamydia_RankByCount  Chlamydia_RankByRate  Gonorrhea_Count  \\\n",
       "0                     14                     6            12063   \n",
       "1                     40                     2              361   \n",
       "2                     21                    22             4130   \n",
       "3                     31                    25             3642   \n",
       "4                      1                    12            21619   \n",
       "\n",
       "   Gonorrhea_Rate  Gonorrhea_RankByCount  Gonorrhea_RankByRate  \\\n",
       "0           271.0                     12                     3   \n",
       "1            57.5                     41                    35   \n",
       "2            79.9                     23                    28   \n",
       "3           136.0                     24                    17   \n",
       "4            63.6                      4                    32   \n",
       "\n",
       "   Primary_Secondary_Syphilis_Count  Primary_Secondary_Syphilis_Rate  \\\n",
       "0                               123                              2.8   \n",
       "1                                 0                              0.0   \n",
       "2                               189                              3.7   \n",
       "3                               104                              3.9   \n",
       "4                               325                              1.0   \n",
       "\n",
       "   Primary_Secondary_Syphilis_RankByCount  \\\n",
       "0                                      17   \n",
       "1                                      39   \n",
       "2                                      13   \n",
       "3                                      19   \n",
       "4                                       9   \n",
       "\n",
       "   Primary_Secondary_Syphilis_RankByRate  \n",
       "0                                   13.0  \n",
       "1                                    NaN  \n",
       "2                                   10.0  \n",
       "3                                    9.0  \n",
       "4                                   19.0  "
      ]
     },
     "execution_count": 3,
     "metadata": {},
     "output_type": "execute_result"
    }
   ],
   "source": [
    "std_df.head()"
   ]
  },
  {
   "cell_type": "code",
   "execution_count": 4,
   "metadata": {
    "collapsed": false
   },
   "outputs": [
    {
     "name": "stdout",
     "output_type": "stream",
     "text": [
      "<class 'pandas.core.frame.DataFrame'>\n",
      "RangeIndex: 800 entries, 0 to 799\n",
      "Data columns (total 15 columns):\n",
      "Sort                                      800 non-null int64\n",
      "Year                                      800 non-null int64\n",
      "State                                     800 non-null object\n",
      "Chlamydia_Count                           800 non-null int64\n",
      "Chlamydia_Rate                            800 non-null float64\n",
      "Chlamydia_RankByCount                     800 non-null int64\n",
      "Chlamydia_RankByRate                      800 non-null int64\n",
      "Gonorrhea_Count                           800 non-null int64\n",
      "Gonorrhea_Rate                            800 non-null float64\n",
      "Gonorrhea_RankByCount                     800 non-null int64\n",
      "Gonorrhea_RankByRate                      800 non-null int64\n",
      "Primary_Secondary_Syphilis_Count          800 non-null int64\n",
      "Primary_Secondary_Syphilis_Rate           800 non-null float64\n",
      "Primary_Secondary_Syphilis_RankByCount    800 non-null int64\n",
      "Primary_Secondary_Syphilis_RankByRate     774 non-null float64\n",
      "dtypes: float64(4), int64(10), object(1)\n",
      "memory usage: 93.8+ KB\n"
     ]
    }
   ],
   "source": [
    "std_df.info()"
   ]
  },
  {
   "cell_type": "code",
   "execution_count": 5,
   "metadata": {
    "collapsed": false
   },
   "outputs": [],
   "source": [
    "std_df.rename(columns=lambda x: x.lower().strip(), inplace=True)"
   ]
  },
  {
   "cell_type": "code",
   "execution_count": 6,
   "metadata": {
    "collapsed": false
   },
   "outputs": [],
   "source": [
    "scl = [[0.0, 'rgb(242,240,247)'],[0.2, 'rgb(218,218,235)'],[0.4, 'rgb(188,189,220)'],\\\n",
    "            [0.6, 'rgb(158,154,200)'],[0.8, 'rgb(117,107,177)'],[1.0, 'rgb(84,39,143)']]\n"
   ]
  },
  {
   "cell_type": "code",
   "execution_count": 7,
   "metadata": {
    "collapsed": false
   },
   "outputs": [],
   "source": [
    "std15_df = std_df[std_df['year'] == 2015].copy()"
   ]
  },
  {
   "cell_type": "code",
   "execution_count": 8,
   "metadata": {
    "collapsed": false
   },
   "outputs": [],
   "source": [
    "std15_df['total_count_stds'] = (std15_df.chlamydia_count.astype(float)\n",
    "                              + std15_df.gonorrhea_count.astype(float) \n",
    "                              + std15_df.primary_secondary_syphilis_count.astype(float))"
   ]
  },
  {
   "cell_type": "code",
   "execution_count": 9,
   "metadata": {
    "collapsed": false
   },
   "outputs": [],
   "source": [
    "std15_df['state_abbreviations'] = std15_df['state'].apply(state_to_abbrev)"
   ]
  },
  {
   "cell_type": "code",
   "execution_count": 10,
   "metadata": {
    "collapsed": false
   },
   "outputs": [],
   "source": [
    "std15_df['text'] = (std15_df['state'] \n",
    "                  + '<br>' \n",
    "                  + 'Chlamydia Rate: '\n",
    "                  + std15_df['chlamydia_rate'].astype(str))\n",
    "                  "
   ]
  },
  {
   "cell_type": "code",
   "execution_count": 11,
   "metadata": {
    "collapsed": false
   },
   "outputs": [],
   "source": [
    "data = [ dict(\n",
    "        type='choropleth',\n",
    "        colorscale = scl,\n",
    "        autocolorscale = False,\n",
    "        locations = std15_df['state_abbreviations'],\n",
    "        z = std15_df['chlamydia_rate'],\n",
    "        locationmode = 'USA-states',\n",
    "        text = std15_df['text'],\n",
    "        marker = dict(\n",
    "            line = dict (\n",
    "                color = 'rgb(255,255,255)',\n",
    "                width = 2\n",
    "            ) ),\n",
    "        colorbar = dict(\n",
    "            title = \"STD Rate\")\n",
    "        ) ]"
   ]
  },
  {
   "cell_type": "code",
   "execution_count": 12,
   "metadata": {
    "collapsed": true
   },
   "outputs": [],
   "source": [
    "layout = dict(\n",
    "        title = '2015 Chlamydia Rate (per 100,000) by State<br>(Hover for breakdown)',\n",
    "        geo = dict(\n",
    "            scope='usa',\n",
    "            projection=dict( type='albers usa' ),\n",
    "            showlakes = True,\n",
    "            lakecolor = 'rgb(255, 255, 255)'),\n",
    "             )"
   ]
  },
  {
   "cell_type": "code",
   "execution_count": 13,
   "metadata": {
    "collapsed": false
   },
   "outputs": [
    {
     "data": {
      "text/html": [
       "<iframe id=\"igraph\" scrolling=\"no\" style=\"border:none;\" seamless=\"seamless\" src=\"https://plot.ly/~jon_torrez/3.embed\" height=\"525px\" width=\"100%\"></iframe>"
      ],
      "text/plain": [
       "<plotly.tools.PlotlyDisplay object>"
      ]
     },
     "execution_count": 13,
     "metadata": {},
     "output_type": "execute_result"
    }
   ],
   "source": [
    "fig = dict( data=data, layout=layout )\n",
    "py.iplot( fig, filename='d3-cloropleth-map' )"
   ]
  },
  {
   "cell_type": "code",
   "execution_count": null,
   "metadata": {
    "collapsed": true
   },
   "outputs": [],
   "source": []
  }
 ],
 "metadata": {
  "anaconda-cloud": {},
  "kernelspec": {
   "display_name": "Python [conda root]",
   "language": "python",
   "name": "conda-root-py"
  },
  "language_info": {
   "codemirror_mode": {
    "name": "ipython",
    "version": 2
   },
   "file_extension": ".py",
   "mimetype": "text/x-python",
   "name": "python",
   "nbconvert_exporter": "python",
   "pygments_lexer": "ipython2",
   "version": "2.7.12"
  }
 },
 "nbformat": 4,
 "nbformat_minor": 1
}
